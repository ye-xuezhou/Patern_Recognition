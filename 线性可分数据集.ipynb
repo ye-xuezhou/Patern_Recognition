{
 "cells": [
  {
   "cell_type": "code",
   "execution_count": 1,
   "metadata": {},
   "outputs": [],
   "source": [
    "import numpy as np\n",
    "import matplotlib.pyplot as plt\n"
   ]
  },
  {
   "cell_type": "code",
   "execution_count": 2,
   "metadata": {},
   "outputs": [],
   "source": [
    "#将数据保存成字典的形式\n",
    "train_data_set = {-1:np.array([[1,1]]),\n",
    "                 1:np.array([[3,3],\n",
    "                             [4,3]])}\n",
    "data_color={-1:'r',1:'b'}\n"
   ]
  },
  {
   "cell_type": "code",
   "execution_count": 3,
   "metadata": {},
   "outputs": [],
   "source": [
    "def train(data):\n",
    "    rate=1  #学习速率\n",
    "    w=np.array([0,0]) #斜率\n",
    "    b=0  #截距\n",
    "    optimize1=True\n",
    "    while optimize1:\n",
    "        a=0\n",
    "        exit_flag1=True\n",
    "        for i in data:           #i=1或-1\n",
    "            for j in data[i]:\n",
    "                if  i*(np.dot(j,w)+b) <=0:\n",
    "                    w=w+rate*j*i\n",
    "                    b=b+rate*i\n",
    "                    \n",
    "                    exit_flag1=False\n",
    "                    break   #跳出内层for循环\n",
    "                else:\n",
    "                    a=a+1\n",
    "            if not exit_flag1:\n",
    "                break       #跳出外层for循环,进入内层的while循环\n",
    "        \n",
    "        if a==3:   #样本的容量,代表所需循环的次数,意思是只有当不再出现分类错误的现象才能退出while\n",
    "            break\n",
    "    return w,b\n"
   ]
  },
  {
   "cell_type": "code",
   "execution_count": 4,
   "metadata": {},
   "outputs": [
    {
     "name": "stdout",
     "output_type": "stream",
     "text": [
      "w0= 1\n",
      "w1= 1\n",
      "b= -3\n"
     ]
    }
   ],
   "source": [
    "w_t,b_t=train(train_data_set)\n",
    "print(\"w0=\",w_t[0])\n",
    "print(\"w1=\",w_t[1])\n",
    "print(\"b=\",b_t)"
   ]
  }
 ],
 "metadata": {
  "kernelspec": {
   "display_name": "Python 3",
   "language": "python",
   "name": "python3"
  },
  "language_info": {
   "codemirror_mode": {
    "name": "ipython",
    "version": 3
   },
   "file_extension": ".py",
   "mimetype": "text/x-python",
   "name": "python",
   "nbconvert_exporter": "python",
   "pygments_lexer": "ipython3",
   "version": "3.7.4"
  }
 },
 "nbformat": 4,
 "nbformat_minor": 2
}
