{
 "cells": [
  {
   "cell_type": "code",
   "execution_count": 1,
   "metadata": {},
   "outputs": [],
   "source": [
    "from matplotlib import pyplot as plt\n",
    "from mpl_toolkits.mplot3d import Axes3D\n",
    "import numpy as np\n",
    "from sklearn.neural_network import MLPClassifier\n",
    "from sklearn.datasets import load_iris"
   ]
  },
  {
   "cell_type": "code",
   "execution_count": 2,
   "metadata": {},
   "outputs": [],
   "source": [
    "def creat_data_no_linear_2d(n):\n",
    "    np.random.seed(1)\n",
    "    x_11=np.random.randint(0,100,(n,1))\n",
    "    x_12=10+np.random.randint(-5,5,(n,1))\n",
    "    x_21=np.random.randint(0,100,(n,1))\n",
    "    x_22=20+np.random.randint(0,10,(n,1))\n",
    "\n",
    "    x_31=np.random.randint(0,100,(int(n/10),1))\n",
    "    x_32=20+np.random.randint(0,10,(int(n/10),1))\n",
    "\n",
    "    new_x_11=x_11*np.sqrt(2)/2-x_12*np.sqrt(2)/2\n",
    "    new_x_12=x_11*np.sqrt(2)/2+x_12*np.sqrt(2)/2\n",
    "    new_x_21=x_21*np.sqrt(2)/2-x_22*np.sqrt(2)/2\n",
    "    new_x_22=x_21*np.sqrt(2)/2+x_22*np.sqrt(2)/2\n",
    "    new_x_31=x_31*np.sqrt(2)/2-x_32*np.sqrt(2)/2\n",
    "    new_x_32=x_31*np.sqrt(2)/2+x_32*np.sqrt(2)/2\n",
    "\n",
    "    plus_samples=np.hstack([new_x_11,new_x_12,np.ones((n,1))])\n",
    "    minus_samples=np.hstack([new_x_21,new_x_22,-np.ones((n,1))])\n",
    "    err_samples=np.hstack([new_x_31,new_x_32,np.ones((int(n/10),1))])\n",
    "    samples=np.vstack([plus_samples,minus_samples,err_samples])\n",
    "    np.random.shuffle(samples)\n",
    "    return samples\n"
   ]
  },
  {
   "cell_type": "code",
   "execution_count": 3,
   "metadata": {},
   "outputs": [
    {
     "data": {
      "image/png": "[encoded data removed]",
      "text/plain": [
       "<Figure size 432x288 with 1 Axes>"
      ]
     },
     "metadata": {
      "needs_background": "light"
     },
     "output_type": "display_data"
    }
   ],
   "source": [
    "def plot_samples_2d(ax,samples):\n",
    "    Y=samples[:,-1]\n",
    "    position_p=Y==1\n",
    "    position_m=Y==-1\n",
    "    plt.scatter(samples[position_p,0],samples[position_p,1],\n",
    "        marker='+',label='+',color='b')\n",
    "    plt.scatter(samples[position_m,0],samples[position_m,1],\n",
    "        marker='^',label='-',color='y')\n",
    "\n",
    "fig=plt.figure()\n",
    "ax=fig.add_subplot(1,1,1)\n",
    "data=creat_data_no_linear_2d(20)\n",
    "plot_samples_2d(ax,data)\n",
    "ax.legend(loc='best')\n",
    "plt.show()\n"
   ]
  },
  {
   "cell_type": "code",
   "execution_count": 4,
   "metadata": {},
   "outputs": [
    {
     "name": "stdout",
     "output_type": "stream",
     "text": [
      "0.9523809523809523\n"
     ]
    },
    {
     "data": {
      "image/png": "[encoded data removed]",
      "text/plain": [
       "<Figure size 432x288 with 1 Axes>"
      ]
     },
     "metadata": {
      "needs_background": "light"
     },
     "output_type": "display_data"
    }
   ],
   "source": [
    "def predict_with_MLPClassifier(ax,train_data):\n",
    "    train_x=train_data[:,:-1]\n",
    "    train_y=train_data[:,-1]\n",
    "    clf=MLPClassifier(activation='logistic',max_iter=1000)\n",
    "    clf.fit(train_x,train_y)\n",
    "    print(clf.score(train_x,train_y))\n",
    "\n",
    "    #预测平面上每一点的输出\n",
    "    x_min,x_max=train_x[:,0].min()-1,train_x[:,0].max()+2\n",
    "    y_min,y_max=train_x[:,0].min()-1,train_x[:,0].max()+2\n",
    "    plot_step=1\n",
    "    xx,yy=np.meshgrid(np.arange(x_min,x_max,plot_step),\n",
    "        np.arange(y_min,y_max,plot_step))\n",
    "    Z=clf.predict(np.c_[xx.ravel(),yy.ravel()])\n",
    "    Z=Z.reshape(xx.shape)\n",
    "    ax.contourf(xx,yy,Z,cmap=plt.cm.Paired)\n",
    "\n",
    "data=creat_data_no_linear_2d(50)\n",
    "fig=plt.figure()\n",
    "ax=fig.add_subplot(1,1,1)\n",
    "predict_with_MLPClassifier(ax,data)\n",
    "plot_samples_2d(ax,data)\n",
    "ax.legend(loc='best')\n",
    "plt.show()\n"
   ]
  }
 ],
 "metadata": {
  "kernelspec": {
   "display_name": "Python 3",
   "language": "python",
   "name": "python3"
  },
  "language_info": {
   "codemirror_mode": {
    "name": "ipython",
    "version": 3
   },
   "file_extension": ".py",
   "mimetype": "text/x-python",
   "name": "python",
   "nbconvert_exporter": "python",
   "pygments_lexer": "ipython3",
   "version": "3.7.4"
  }
 },
 "nbformat": 4,
 "nbformat_minor": 2
}
